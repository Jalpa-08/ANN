{
  "cells": [
    {
      "cell_type": "code",
      "execution_count": null,
      "metadata": {
        "colab": {
          "background_save": true,
          "base_uri": "https://localhost:8080/"
        },
        "id": "KMQO-lpC6lgI",
        "outputId": "c8f4291d-3419-47bb-fbea-f049b04446b8"
      },
      "outputs": [
        {
          "name": "stdout",
          "output_type": "stream",
          "text": [
            "Collecting tensorflow-gpu\n",
            "  Downloading tensorflow_gpu-2.8.0-cp37-cp37m-manylinux2010_x86_64.whl (497.5 MB)\n",
            "\u001b[K     |████████████████████████████████| 497.5 MB 20 kB/s \n",
            "\u001b[?25hRequirement already satisfied: keras-preprocessing>=1.1.1 in /usr/local/lib/python3.7/dist-packages (from tensorflow-gpu) (1.1.2)\n",
            "Requirement already satisfied: h5py>=2.9.0 in /usr/local/lib/python3.7/dist-packages (from tensorflow-gpu) (3.1.0)\n",
            "Requirement already satisfied: termcolor>=1.1.0 in /usr/local/lib/python3.7/dist-packages (from tensorflow-gpu) (1.1.0)\n",
            "Requirement already satisfied: wrapt>=1.11.0 in /usr/local/lib/python3.7/dist-packages (from tensorflow-gpu) (1.14.0)\n",
            "Collecting tf-estimator-nightly==2.8.0.dev2021122109\n",
            "  Downloading tf_estimator_nightly-2.8.0.dev2021122109-py2.py3-none-any.whl (462 kB)\n",
            "\u001b[K     |████████████████████████████████| 462 kB 34.3 MB/s \n",
            "\u001b[?25hRequirement already satisfied: opt-einsum>=2.3.2 in /usr/local/lib/python3.7/dist-packages (from tensorflow-gpu) (3.3.0)\n",
            "Requirement already satisfied: grpcio<2.0,>=1.24.3 in /usr/local/lib/python3.7/dist-packages (from tensorflow-gpu) (1.44.0)\n",
            "Requirement already satisfied: tensorboard<2.9,>=2.8 in /usr/local/lib/python3.7/dist-packages (from tensorflow-gpu) (2.8.0)\n",
            "Requirement already satisfied: gast>=0.2.1 in /usr/local/lib/python3.7/dist-packages (from tensorflow-gpu) (0.5.3)\n",
            "Requirement already satisfied: absl-py>=0.4.0 in /usr/local/lib/python3.7/dist-packages (from tensorflow-gpu) (1.0.0)\n",
            "Requirement already satisfied: astunparse>=1.6.0 in /usr/local/lib/python3.7/dist-packages (from tensorflow-gpu) (1.6.3)\n",
            "Requirement already satisfied: libclang>=9.0.1 in /usr/local/lib/python3.7/dist-packages (from tensorflow-gpu) (14.0.1)\n",
            "Requirement already satisfied: typing-extensions>=3.6.6 in /usr/local/lib/python3.7/dist-packages (from tensorflow-gpu) (4.2.0)\n",
            "Requirement already satisfied: numpy>=1.20 in /usr/local/lib/python3.7/dist-packages (from tensorflow-gpu) (1.21.6)\n",
            "Requirement already satisfied: six>=1.12.0 in /usr/local/lib/python3.7/dist-packages (from tensorflow-gpu) (1.15.0)\n",
            "Requirement already satisfied: protobuf>=3.9.2 in /usr/local/lib/python3.7/dist-packages (from tensorflow-gpu) (3.17.3)\n",
            "Requirement already satisfied: setuptools in /usr/local/lib/python3.7/dist-packages (from tensorflow-gpu) (57.4.0)\n",
            "Requirement already satisfied: keras<2.9,>=2.8.0rc0 in /usr/local/lib/python3.7/dist-packages (from tensorflow-gpu) (2.8.0)\n",
            "Requirement already satisfied: tensorflow-io-gcs-filesystem>=0.23.1 in /usr/local/lib/python3.7/dist-packages (from tensorflow-gpu) (0.25.0)\n",
            "Requirement already satisfied: google-pasta>=0.1.1 in /usr/local/lib/python3.7/dist-packages (from tensorflow-gpu) (0.2.0)\n",
            "Requirement already satisfied: flatbuffers>=1.12 in /usr/local/lib/python3.7/dist-packages (from tensorflow-gpu) (2.0)\n",
            "Requirement already satisfied: wheel<1.0,>=0.23.0 in /usr/local/lib/python3.7/dist-packages (from astunparse>=1.6.0->tensorflow-gpu) (0.37.1)\n",
            "Requirement already satisfied: cached-property in /usr/local/lib/python3.7/dist-packages (from h5py>=2.9.0->tensorflow-gpu) (1.5.2)\n",
            "Requirement already satisfied: google-auth<3,>=1.6.3 in /usr/local/lib/python3.7/dist-packages (from tensorboard<2.9,>=2.8->tensorflow-gpu) (1.35.0)\n",
            "Requirement already satisfied: tensorboard-data-server<0.7.0,>=0.6.0 in /usr/local/lib/python3.7/dist-packages (from tensorboard<2.9,>=2.8->tensorflow-gpu) (0.6.1)\n",
            "Requirement already satisfied: tensorboard-plugin-wit>=1.6.0 in /usr/local/lib/python3.7/dist-packages (from tensorboard<2.9,>=2.8->tensorflow-gpu) (1.8.1)\n",
            "Requirement already satisfied: werkzeug>=0.11.15 in /usr/local/lib/python3.7/dist-packages (from tensorboard<2.9,>=2.8->tensorflow-gpu) (1.0.1)\n",
            "Requirement already satisfied: google-auth-oauthlib<0.5,>=0.4.1 in /usr/local/lib/python3.7/dist-packages (from tensorboard<2.9,>=2.8->tensorflow-gpu) (0.4.6)\n",
            "Requirement already satisfied: requests<3,>=2.21.0 in /usr/local/lib/python3.7/dist-packages (from tensorboard<2.9,>=2.8->tensorflow-gpu) (2.23.0)\n",
            "Requirement already satisfied: markdown>=2.6.8 in /usr/local/lib/python3.7/dist-packages (from tensorboard<2.9,>=2.8->tensorflow-gpu) (3.3.6)\n",
            "Requirement already satisfied: pyasn1-modules>=0.2.1 in /usr/local/lib/python3.7/dist-packages (from google-auth<3,>=1.6.3->tensorboard<2.9,>=2.8->tensorflow-gpu) (0.2.8)\n",
            "Requirement already satisfied: rsa<5,>=3.1.4 in /usr/local/lib/python3.7/dist-packages (from google-auth<3,>=1.6.3->tensorboard<2.9,>=2.8->tensorflow-gpu) (4.8)\n",
            "Requirement already satisfied: cachetools<5.0,>=2.0.0 in /usr/local/lib/python3.7/dist-packages (from google-auth<3,>=1.6.3->tensorboard<2.9,>=2.8->tensorflow-gpu) (4.2.4)\n",
            "Requirement already satisfied: requests-oauthlib>=0.7.0 in /usr/local/lib/python3.7/dist-packages (from google-auth-oauthlib<0.5,>=0.4.1->tensorboard<2.9,>=2.8->tensorflow-gpu) (1.3.1)\n",
            "Requirement already satisfied: importlib-metadata>=4.4 in /usr/local/lib/python3.7/dist-packages (from markdown>=2.6.8->tensorboard<2.9,>=2.8->tensorflow-gpu) (4.11.3)\n",
            "Requirement already satisfied: zipp>=0.5 in /usr/local/lib/python3.7/dist-packages (from importlib-metadata>=4.4->markdown>=2.6.8->tensorboard<2.9,>=2.8->tensorflow-gpu) (3.8.0)\n",
            "Requirement already satisfied: pyasn1<0.5.0,>=0.4.6 in /usr/local/lib/python3.7/dist-packages (from pyasn1-modules>=0.2.1->google-auth<3,>=1.6.3->tensorboard<2.9,>=2.8->tensorflow-gpu) (0.4.8)\n",
            "Requirement already satisfied: certifi>=2017.4.17 in /usr/local/lib/python3.7/dist-packages (from requests<3,>=2.21.0->tensorboard<2.9,>=2.8->tensorflow-gpu) (2021.10.8)\n",
            "Requirement already satisfied: chardet<4,>=3.0.2 in /usr/local/lib/python3.7/dist-packages (from requests<3,>=2.21.0->tensorboard<2.9,>=2.8->tensorflow-gpu) (3.0.4)\n",
            "Requirement already satisfied: idna<3,>=2.5 in /usr/local/lib/python3.7/dist-packages (from requests<3,>=2.21.0->tensorboard<2.9,>=2.8->tensorflow-gpu) (2.10)\n",
            "Requirement already satisfied: urllib3!=1.25.0,!=1.25.1,<1.26,>=1.21.1 in /usr/local/lib/python3.7/dist-packages (from requests<3,>=2.21.0->tensorboard<2.9,>=2.8->tensorflow-gpu) (1.24.3)\n",
            "Requirement already satisfied: oauthlib>=3.0.0 in /usr/local/lib/python3.7/dist-packages (from requests-oauthlib>=0.7.0->google-auth-oauthlib<0.5,>=0.4.1->tensorboard<2.9,>=2.8->tensorflow-gpu) (3.2.0)\n",
            "Installing collected packages: tf-estimator-nightly, tensorflow-gpu\n",
            "Successfully installed tensorflow-gpu-2.8.0 tf-estimator-nightly-2.8.0.dev2021122109\n"
          ]
        }
      ],
      "source": [
        "!pip install tensorflow-gpu\n"
      ]
    },
    {
      "cell_type": "code",
      "execution_count": 2,
      "metadata": {
        "id": "D2IliGyI62B0"
      },
      "outputs": [],
      "source": [
        "import tensorflow as tf"
      ]
    },
    {
      "cell_type": "code",
      "execution_count": null,
      "metadata": {
        "colab": {
          "base_uri": "https://localhost:8080/"
        },
        "id": "4_fyxUHb7GuH",
        "outputId": "2c8a495d-cff8-49f1-b9c2-fa63165b0043"
      },
      "outputs": [
        {
          "name": "stdout",
          "output_type": "stream",
          "text": [
            "2.8.0\n"
          ]
        }
      ],
      "source": [
        "print(tf.__version__)"
      ]
    },
    {
      "cell_type": "code",
      "execution_count": null,
      "metadata": {
        "id": "LLvV2K-o7KAp"
      },
      "outputs": [],
      "source": [
        "# Importing the libraries\n",
        "import numpy as np\n",
        "import matplotlib.pyplot as plt\n",
        "import pandas as pd"
      ]
    },
    {
      "cell_type": "code",
      "execution_count": 9,
      "metadata": {
        "id": "gHRHobkK7Sxn"
      },
      "outputs": [],
      "source": [
        "# Importing the dataset\n",
        "dataset = pd.read_csv('Churn_Modelling.csv')\n",
        "X = dataset.iloc[:, 3:13]\n",
        "y = dataset.iloc[:, 13]"
      ]
    },
    {
      "cell_type": "code",
      "execution_count": 10,
      "metadata": {
        "id": "T2yS0VL67Ufn"
      },
      "outputs": [],
      "source": [
        "#Create dummy variables\n",
        "geography=pd.get_dummies(X[\"Geography\"],drop_first=True)\n",
        "gender=pd.get_dummies(X['Gender'],drop_first=True)"
      ]
    },
    {
      "cell_type": "code",
      "execution_count": 11,
      "metadata": {
        "id": "Co2rxaFR7Wgo"
      },
      "outputs": [],
      "source": [
        "## Concatenate the Data Frames\n",
        "\n",
        "X=pd.concat([X,geography,gender],axis=1)\n",
        "\n",
        "## Drop Unnecessary columns\n",
        "X=X.drop(['Geography','Gender'],axis=1)\n",
        "\n",
        "# Splitting the dataset into the Training set and Test set\n",
        "from sklearn.model_selection import train_test_split\n",
        "X_train, X_test, y_train, y_test = train_test_split(X, y, test_size = 0.2, random_state = 0)\n"
      ]
    },
    {
      "cell_type": "code",
      "execution_count": 12,
      "metadata": {
        "id": "GNZrZXy37ZLs"
      },
      "outputs": [],
      "source": [
        "# Feature Scaling\n",
        "from sklearn.preprocessing import StandardScaler\n",
        "sc = StandardScaler()\n",
        "X_train = sc.fit_transform(X_train)\n",
        "X_test = sc.transform(X_test)\n"
      ]
    },
    {
      "cell_type": "code",
      "execution_count": 13,
      "metadata": {
        "id": "uwN3bgie7bvT"
      },
      "outputs": [],
      "source": [
        "# Part 2 - Now let's make the ANN!"
      ]
    },
    {
      "cell_type": "code",
      "execution_count": 14,
      "metadata": {
        "id": "rL_a7vWu7dj1"
      },
      "outputs": [],
      "source": [
        "from tensorflow.keras.models import Sequential\n",
        "from tensorflow.keras.layers import Dense\n",
        "from tensorflow.keras.layers import LeakyReLU,PReLU,ELU\n",
        "from tensorflow.keras.layers import Dropout\n"
      ]
    },
    {
      "cell_type": "code",
      "execution_count": 15,
      "metadata": {
        "id": "VDJwvrbZ7kj4"
      },
      "outputs": [],
      "source": [
        "# Initialising the ANN\n",
        "classifier = Sequential()"
      ]
    },
    {
      "cell_type": "code",
      "execution_count": 16,
      "metadata": {
        "id": "RSZQrU-g7z4N"
      },
      "outputs": [],
      "source": [
        "# Adding the input layer and the first hidden layer\n",
        "classifier.add(Dense(units=11,activation='relu'))"
      ]
    },
    {
      "cell_type": "code",
      "execution_count": 17,
      "metadata": {
        "id": "byszZMvw8RcQ"
      },
      "outputs": [],
      "source": [
        "# Adding the input layer and the first hidden layer\n",
        "classifier.add(Dense(units=6,activation='relu'))"
      ]
    },
    {
      "cell_type": "code",
      "execution_count": 18,
      "metadata": {
        "id": "Mk2slmAX8XUI"
      },
      "outputs": [],
      "source": [
        "# Adding the input layer and the first hidden layer\n",
        "classifier.add(Dense(units=1,activation='relu'))"
      ]
    },
    {
      "cell_type": "code",
      "execution_count": 19,
      "metadata": {
        "id": "F2udThHo8cFt"
      },
      "outputs": [],
      "source": [
        "classifier.compile(optimizer='adam',loss='binary_crossentropy',metrics=['accuracy'])"
      ]
    },
    {
      "cell_type": "code",
      "execution_count": 28,
      "metadata": {
        "colab": {
          "base_uri": "https://localhost:8080/"
        },
        "id": "3qairJAs8fIc",
        "outputId": "bbab7ce3-672e-47f3-835f-bb97170e48c9"
      },
      "outputs": [
        {
          "output_type": "stream",
          "name": "stdout",
          "text": [
            "Epoch 1/50\n",
            "560/560 [==============================] - 2s 4ms/step - loss: 0.3561 - accuracy: 0.8582 - val_loss: 0.4683 - val_accuracy: 0.8475\n",
            "Epoch 2/50\n",
            "560/560 [==============================] - 2s 4ms/step - loss: 0.3499 - accuracy: 0.8614 - val_loss: 0.4207 - val_accuracy: 0.8500\n",
            "Epoch 3/50\n",
            "560/560 [==============================] - 2s 3ms/step - loss: 0.3448 - accuracy: 0.8637 - val_loss: 0.4388 - val_accuracy: 0.8487\n",
            "Epoch 4/50\n",
            "560/560 [==============================] - 2s 3ms/step - loss: 0.3523 - accuracy: 0.8600 - val_loss: 0.4487 - val_accuracy: 0.8487\n",
            "Epoch 5/50\n",
            "560/560 [==============================] - 2s 4ms/step - loss: 0.3531 - accuracy: 0.8607 - val_loss: 0.4185 - val_accuracy: 0.8512\n",
            "Epoch 6/50\n",
            "560/560 [==============================] - 2s 3ms/step - loss: 0.3497 - accuracy: 0.8589 - val_loss: 0.4205 - val_accuracy: 0.8537\n",
            "Epoch 7/50\n",
            "560/560 [==============================] - 2s 4ms/step - loss: 0.3489 - accuracy: 0.8620 - val_loss: 0.4380 - val_accuracy: 0.8479\n",
            "Epoch 8/50\n",
            "560/560 [==============================] - 2s 3ms/step - loss: 0.3461 - accuracy: 0.8625 - val_loss: 0.4323 - val_accuracy: 0.8546\n",
            "Epoch 9/50\n",
            "560/560 [==============================] - 2s 4ms/step - loss: 0.3449 - accuracy: 0.8605 - val_loss: 0.4326 - val_accuracy: 0.8492\n",
            "Epoch 10/50\n",
            "560/560 [==============================] - 2s 4ms/step - loss: 0.3543 - accuracy: 0.8600 - val_loss: 0.4311 - val_accuracy: 0.8479\n",
            "Epoch 11/50\n",
            "560/560 [==============================] - 2s 3ms/step - loss: 0.3454 - accuracy: 0.8616 - val_loss: 0.4133 - val_accuracy: 0.8508\n",
            "Epoch 12/50\n",
            "560/560 [==============================] - 2s 4ms/step - loss: 0.3440 - accuracy: 0.8616 - val_loss: 0.4431 - val_accuracy: 0.8558\n",
            "Epoch 13/50\n",
            "560/560 [==============================] - 2s 3ms/step - loss: 0.3534 - accuracy: 0.8641 - val_loss: 0.4184 - val_accuracy: 0.8554\n",
            "Epoch 14/50\n",
            "560/560 [==============================] - 2s 4ms/step - loss: 0.3544 - accuracy: 0.8580 - val_loss: 0.4359 - val_accuracy: 0.8500\n",
            "Epoch 15/50\n",
            "560/560 [==============================] - 2s 3ms/step - loss: 0.3451 - accuracy: 0.8602 - val_loss: 0.4398 - val_accuracy: 0.8496\n",
            "Epoch 16/50\n",
            "560/560 [==============================] - 2s 4ms/step - loss: 0.3349 - accuracy: 0.8634 - val_loss: 0.4398 - val_accuracy: 0.8529\n",
            "Epoch 17/50\n",
            "560/560 [==============================] - 2s 4ms/step - loss: 0.3393 - accuracy: 0.8620 - val_loss: 0.4222 - val_accuracy: 0.8554\n",
            "Epoch 18/50\n",
            "560/560 [==============================] - 2s 4ms/step - loss: 0.3400 - accuracy: 0.8645 - val_loss: 0.4332 - val_accuracy: 0.8583\n",
            "Epoch 19/50\n",
            "560/560 [==============================] - 2s 4ms/step - loss: 0.3356 - accuracy: 0.8643 - val_loss: 0.4356 - val_accuracy: 0.8562\n",
            "Epoch 20/50\n",
            "560/560 [==============================] - 2s 3ms/step - loss: 0.3447 - accuracy: 0.8639 - val_loss: 0.4501 - val_accuracy: 0.8512\n",
            "Epoch 21/50\n",
            "560/560 [==============================] - 2s 4ms/step - loss: 0.3403 - accuracy: 0.8639 - val_loss: 0.4524 - val_accuracy: 0.8537\n",
            "Epoch 22/50\n",
            "560/560 [==============================] - 2s 4ms/step - loss: 0.3416 - accuracy: 0.8639 - val_loss: 0.4353 - val_accuracy: 0.8542\n",
            "Epoch 23/50\n",
            "560/560 [==============================] - 2s 3ms/step - loss: 0.3384 - accuracy: 0.8650 - val_loss: 0.4466 - val_accuracy: 0.8504\n",
            "Epoch 24/50\n",
            "560/560 [==============================] - 2s 3ms/step - loss: 0.3398 - accuracy: 0.8612 - val_loss: 0.4335 - val_accuracy: 0.8550\n",
            "Epoch 25/50\n",
            "560/560 [==============================] - 3s 5ms/step - loss: 0.3370 - accuracy: 0.8646 - val_loss: 0.4406 - val_accuracy: 0.8525\n",
            "Epoch 26/50\n",
            "560/560 [==============================] - 2s 4ms/step - loss: 0.3389 - accuracy: 0.8621 - val_loss: 0.4193 - val_accuracy: 0.8562\n",
            "Epoch 27/50\n",
            "560/560 [==============================] - 2s 3ms/step - loss: 0.3422 - accuracy: 0.8664 - val_loss: 0.4566 - val_accuracy: 0.8550\n",
            "Epoch 28/50\n",
            "560/560 [==============================] - 2s 4ms/step - loss: 0.3411 - accuracy: 0.8643 - val_loss: 0.4591 - val_accuracy: 0.8521\n",
            "Epoch 29/50\n",
            "560/560 [==============================] - 2s 3ms/step - loss: 0.3343 - accuracy: 0.8639 - val_loss: 0.4347 - val_accuracy: 0.8554\n",
            "Epoch 30/50\n",
            "560/560 [==============================] - 2s 3ms/step - loss: 0.3380 - accuracy: 0.8621 - val_loss: 0.4337 - val_accuracy: 0.8492\n",
            "Epoch 31/50\n",
            "560/560 [==============================] - 2s 4ms/step - loss: 0.3449 - accuracy: 0.8609 - val_loss: 0.4696 - val_accuracy: 0.8521\n",
            "Epoch 32/50\n",
            "560/560 [==============================] - 2s 4ms/step - loss: 0.3399 - accuracy: 0.8654 - val_loss: 0.4472 - val_accuracy: 0.8512\n",
            "Epoch 33/50\n",
            "560/560 [==============================] - 2s 4ms/step - loss: 0.3335 - accuracy: 0.8666 - val_loss: 0.4567 - val_accuracy: 0.8546\n",
            "Epoch 34/50\n",
            "560/560 [==============================] - 2s 3ms/step - loss: 0.3419 - accuracy: 0.8632 - val_loss: 0.4008 - val_accuracy: 0.8546\n",
            "Epoch 35/50\n",
            "560/560 [==============================] - 2s 4ms/step - loss: 0.3374 - accuracy: 0.8643 - val_loss: 0.4448 - val_accuracy: 0.8533\n",
            "Epoch 36/50\n",
            "560/560 [==============================] - 2s 4ms/step - loss: 0.3335 - accuracy: 0.8650 - val_loss: 0.4441 - val_accuracy: 0.8542\n",
            "Epoch 37/50\n",
            "560/560 [==============================] - 2s 4ms/step - loss: 0.3299 - accuracy: 0.8643 - val_loss: 0.4477 - val_accuracy: 0.8529\n",
            "Epoch 38/50\n",
            "560/560 [==============================] - 2s 4ms/step - loss: 0.3321 - accuracy: 0.8655 - val_loss: 0.4563 - val_accuracy: 0.8587\n",
            "Epoch 39/50\n",
            "560/560 [==============================] - 2s 4ms/step - loss: 0.3276 - accuracy: 0.8686 - val_loss: 0.4060 - val_accuracy: 0.8558\n",
            "Epoch 40/50\n",
            "560/560 [==============================] - 2s 3ms/step - loss: 0.3311 - accuracy: 0.8666 - val_loss: 0.4751 - val_accuracy: 0.8533\n",
            "Epoch 41/50\n",
            "560/560 [==============================] - 2s 4ms/step - loss: 0.3334 - accuracy: 0.8643 - val_loss: 0.4511 - val_accuracy: 0.8525\n",
            "Epoch 42/50\n",
            "560/560 [==============================] - 2s 4ms/step - loss: 0.3417 - accuracy: 0.8662 - val_loss: 0.4561 - val_accuracy: 0.8537\n",
            "Epoch 43/50\n",
            "560/560 [==============================] - 2s 4ms/step - loss: 0.3306 - accuracy: 0.8646 - val_loss: 0.4623 - val_accuracy: 0.8529\n",
            "Epoch 44/50\n",
            "560/560 [==============================] - 2s 3ms/step - loss: 0.3306 - accuracy: 0.8652 - val_loss: 0.4612 - val_accuracy: 0.8517\n",
            "Epoch 45/50\n",
            "560/560 [==============================] - 2s 3ms/step - loss: 0.3285 - accuracy: 0.8668 - val_loss: 0.4602 - val_accuracy: 0.8546\n",
            "Epoch 46/50\n",
            "560/560 [==============================] - 2s 4ms/step - loss: 0.3440 - accuracy: 0.8657 - val_loss: 0.4766 - val_accuracy: 0.8533\n",
            "Epoch 47/50\n",
            "560/560 [==============================] - 2s 4ms/step - loss: 0.3411 - accuracy: 0.8662 - val_loss: 0.4651 - val_accuracy: 0.8525\n",
            "Epoch 48/50\n",
            "560/560 [==============================] - 2s 3ms/step - loss: 0.3318 - accuracy: 0.8679 - val_loss: 0.4479 - val_accuracy: 0.8571\n",
            "Epoch 49/50\n",
            "560/560 [==============================] - 2s 3ms/step - loss: 0.3286 - accuracy: 0.8666 - val_loss: 0.4776 - val_accuracy: 0.8537\n",
            "Epoch 50/50\n",
            "560/560 [==============================] - 2s 4ms/step - loss: 0.3329 - accuracy: 0.8634 - val_loss: 0.4971 - val_accuracy: 0.8512\n"
          ]
        }
      ],
      "source": [
        "model_history=classifier.fit(X_train,y_train,validation_split=0.30,batch_size=10,epochs=50)"
      ]
    },
    {
      "cell_type": "code",
      "execution_count": 29,
      "metadata": {
        "colab": {
          "base_uri": "https://localhost:8080/"
        },
        "id": "Q9t_M4wICTTz",
        "outputId": "986bba23-28b7-4572-c225-abd35c28397a"
      },
      "outputs": [
        {
          "output_type": "stream",
          "name": "stdout",
          "text": [
            "dict_keys(['loss', 'accuracy', 'val_loss', 'val_accuracy'])\n"
          ]
        }
      ],
      "source": [
        "# list all data in history\n",
        "\n",
        "print(model_history.history.keys())"
      ]
    },
    {
      "cell_type": "code",
      "execution_count": 35,
      "metadata": {
        "colab": {
          "base_uri": "https://localhost:8080/",
          "height": 295
        },
        "id": "MMOyiwzgBlLY",
        "outputId": "762c31f8-57c7-4cf6-9b74-7a67d9ee27f1"
      },
      "outputs": [
        {
          "output_type": "display_data",
          "data": {
            "text/plain": [
              "<Figure size 432x288 with 1 Axes>"
            ],
            "image/png": "[encoded data removed]"
          },
          "metadata": {
            "needs_background": "light"
          }
        }
      ],
      "source": [
        "\n",
        "# summarize history for accuracy\n",
        "plt.plot(model_history.history['accuracy'])\n",
        "plt.plot(model_history.history['val_accuracy'])\n",
        "plt.title('model accuracy')\n",
        "plt.ylabel('accuracy')\n",
        "plt.xlabel('epoch')\n",
        "plt.legend(['train', 'test'], loc='upper left')\n",
        "plt.show()"
      ]
    },
    {
      "cell_type": "code",
      "execution_count": 23,
      "metadata": {
        "colab": {
          "base_uri": "https://localhost:8080/",
          "height": 295
        },
        "id": "QH141RsQCEr0",
        "outputId": "2e70b8b3-ee96-4056-f20c-2a655d05a752"
      },
      "outputs": [
        {
          "output_type": "display_data",
          "data": {
            "text/plain": [
              "<Figure size 432x288 with 1 Axes>"
            ],
            "image/png": "[encoded data removed]"
          },
          "metadata": {
            "needs_background": "light"
          }
        }
      ],
      "source": [
        "# summarize history for loss\n",
        "plt.plot(model_history.history['loss'])\n",
        "plt.plot(model_history.history['val_loss'])\n",
        "plt.title('model loss')\n",
        "plt.ylabel('loss')\n",
        "plt.xlabel('epoch')\n",
        "plt.legend(['train', 'test'], loc='upper left')\n",
        "plt.show()"
      ]
    },
    {
      "cell_type": "code",
      "execution_count": 31,
      "metadata": {
        "id": "OYqCIIkDCd8S"
      },
      "outputs": [],
      "source": [
        "# Part 3 - Making the predictions and evaluating the model\n",
        "\n",
        "# Predicting the Test set results\n",
        "y_pred = classifier.predict(X_test)\n",
        "y_pred = (y_pred > 0.5)"
      ]
    },
    {
      "cell_type": "code",
      "execution_count": 38,
      "metadata": {
        "colab": {
          "base_uri": "https://localhost:8080/"
        },
        "id": "cm3EeOGTCi3-",
        "outputId": "c69e135c-3df8-460e-9424-d53a42a3d2bb"
      },
      "outputs": [
        {
          "output_type": "execute_result",
          "data": {
            "text/plain": [
              "array([[1528,   67],\n",
              "       [ 211,  194]])"
            ]
          },
          "metadata": {},
          "execution_count": 38
        }
      ],
      "source": [
        "# Making the Confusion Matrix\n",
        "from sklearn.metrics import confusion_matrix, plot_confusion_matrix,classification_report\n",
        "cm = confusion_matrix(y_test, y_pred)\n",
        "cm"
      ]
    },
    {
      "cell_type": "code",
      "execution_count": 39,
      "metadata": {
        "id": "FgfRKzzOClmP"
      },
      "outputs": [],
      "source": [
        "# Calculate the Accuracy\n",
        "from sklearn.metrics import accuracy_score\n",
        "score=accuracy_score(y_pred,y_test)"
      ]
    },
    {
      "cell_type": "code",
      "execution_count": 40,
      "metadata": {
        "colab": {
          "base_uri": "https://localhost:8080/"
        },
        "id": "a_C5EETrCpSj",
        "outputId": "9fdf4d6f-6b76-406b-bbb4-d0761969dbea"
      },
      "outputs": [
        {
          "output_type": "execute_result",
          "data": {
            "text/plain": [
              "0.861"
            ]
          },
          "metadata": {},
          "execution_count": 40
        }
      ],
      "source": [
        "score"
      ]
    },
    {
      "cell_type": "code",
      "execution_count": 41,
      "metadata": {
        "id": "UTvHAjYWCqWx",
        "colab": {
          "base_uri": "https://localhost:8080/"
        },
        "outputId": "b7139d3b-6898-4dd9-f40b-6b55e6289be3"
      },
      "outputs": [
        {
          "output_type": "stream",
          "name": "stdout",
          "text": [
            "              precision    recall  f1-score   support\n",
            "\n",
            "           0       0.88      0.96      0.92      1595\n",
            "           1       0.74      0.48      0.58       405\n",
            "\n",
            "    accuracy                           0.86      2000\n",
            "   macro avg       0.81      0.72      0.75      2000\n",
            "weighted avg       0.85      0.86      0.85      2000\n",
            "\n"
          ]
        }
      ],
      "source": [
        "print(classification_report(y_test, y_pred))"
      ]
    }
  ],
  "metadata": {
    "colab": {
      "name": "Churn_Data_ANN.ipynb",
      "provenance": []
    },
    "kernelspec": {
      "display_name": "Python 3",
      "name": "python3"
    },
    "language_info": {
      "name": "python"
    },
    "accelerator": "GPU"
  },
  "nbformat": 4,
  "nbformat_minor": 0
}